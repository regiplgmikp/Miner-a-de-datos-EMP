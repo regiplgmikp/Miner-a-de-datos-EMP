{
 "cells": [
  {
   "cell_type": "markdown",
   "metadata": {},
   "source": [
    "### Limpieza de Datos de Abandono Escolar"
   ]
  },
  {
   "cell_type": "code",
   "execution_count": null,
   "metadata": {},
   "outputs": [],
   "source": [
    "import pandas as pd\n",
    "\n",
    "# Carga y Lectura de datos\n",
    "\n",
    "archivo = \"fuentes/AbandonoEscolar.xlsx\"\n",
    "\n",
    "df = pd.read_excel(archivo)\n",
    "\n",
    "print (df.head())"
   ]
  },
  {
   "cell_type": "code",
   "execution_count": null,
   "metadata": {},
   "outputs": [],
   "source": [
    "print(df.info())"
   ]
  },
  {
   "cell_type": "markdown",
   "metadata": {},
   "source": [
    "### Limpieza de datos"
   ]
  },
  {
   "cell_type": "markdown",
   "metadata": {},
   "source": [
    "1. Selección de datos\n",
    "\n",
    "    Pues la línea de tiempo, que será analizada durante este proyecto, abarcará del año 2015 al 2023."
   ]
  },
  {
   "cell_type": "code",
   "execution_count": null,
   "metadata": {},
   "outputs": [],
   "source": [
    "# Seleccionar solo las columnas necesarias\n",
    "columnas_a_conservar = ['Entidad federativa', 'Nivel educativo', \n",
    "                        '2015/2016', '2020/2021', '2021/2022', '2022/2023', '2023/2024']\n",
    "\n",
    "# Filtrar el DataFrame\n",
    "df = df[columnas_a_conservar]\n",
    "\n",
    "# Ver las primeras filas del nuevo DataFrame\n",
    "\n",
    "print(df.head())"
   ]
  },
  {
   "cell_type": "markdown",
   "metadata": {},
   "source": [
    "2. Renombramiento de columnas\n",
    "\n",
    "Básicamente el renombramiento que se hará será el de los datos de los años (2000/2001, 2005/2006, etc.), solo tomamos el primer año y agregamos \"Año_\" antes, evitando problemas con los \"/\" en los nombres. De esta forma los datos se verán algo así: \"2000/2001\" → \"Año_2000\""
   ]
  },
  {
   "cell_type": "code",
   "execution_count": null,
   "metadata": {},
   "outputs": [],
   "source": [
    "# Renombrar columnas\n",
    "df.columns=['entidad_federativa', 'nivel_educativo','2015-2016',\n",
    "              \t\t\t\t\t\t\t\t\t\t\t\t\t '2020-2021',\n",
    "              \t\t\t\t\t\t\t\t\t\t\t\t\t '2021-2022',\n",
    "              \t\t\t\t\t\t\t\t\t\t\t\t\t '2022-2023',\n",
    "              \t\t\t\t\t\t\t\t\t\t\t\t\t '2023-2024']\n",
    "# Reemplazar valores inconsistentes\n",
    "df.replace({\"-\": None, \"-0.2\": None}, inplace=True)"
   ]
  },
  {
   "cell_type": "code",
   "execution_count": null,
   "metadata": {},
   "outputs": [],
   "source": [
    "# Convertir columnas de años a numérico\n",
    "for col in df.columns[2:]:\n",
    "    df[col] = pd.to_numeric(df[col], errors=\"coerce\")"
   ]
  },
  {
   "cell_type": "markdown",
   "metadata": {},
   "source": [
    "3. Guardar DF en un csv limpio"
   ]
  },
  {
   "cell_type": "code",
   "execution_count": null,
   "metadata": {},
   "outputs": [],
   "source": [
    "# Guardar el archivo limpio\n",
    "df.to_csv(\"resultados/AbandonoEscolar.csv\", index=False)\n",
    "\n",
    "print(\"Archivo limpio guardado como 'AbandonoEscolar.csv'\")"
   ]
  },
  {
   "cell_type": "code",
   "execution_count": null,
   "metadata": {},
   "outputs": [],
   "source": [
    "#Diccionario\n",
    "dic_col = ['variables', 'tipo_dato', 'descripcion'] #Las columnas del diccionario\n",
    "column_headers = list(df.columns) #lista de las columnas de los datos\n",
    "column_types = df.dtypes.astype(str).tolist() #lista de los tipos de datos de las columnas\n",
    "column_desc = [\"Estados que conforman la entidad Federativa de los Estados Unidos Mexicanos\",\n",
    "               \"Nivel Educativo del que se está realizando la evaluación (Primaria, Secundaria, Media Superior y Superior)\",\n",
    "               \"Datos del ciclo escolar 2015 y 2016\",\n",
    "               \"Datos del ciclo escolar 2020 y 2021\",\n",
    "      \t\t   \"Datos del ciclo escolar 2021 y 2022\",\n",
    "\t\t         \"Datos del ciclo escolar 2022 y 2023\",\n",
    "               \"Datos del ciclo escolar 2023 y 2024\"] \n",
    "\n",
    "diccionario = pd.DataFrame({\n",
    "    dic_col[0]: column_headers,\n",
    "    dic_col[1]: column_types,\n",
    "    dic_col[2]: column_desc\n",
    "})\n",
    "#diccionario.head(10)\n",
    "diccionario.to_excel('resultados/AbandonoEscolarDicc.xlsx', index=False)\n"
   ]
  }
 ],
 "metadata": {
  "kernelspec": {
   "display_name": "Python 3",
   "language": "python",
   "name": "python3"
  },
  "language_info": {
   "codemirror_mode": {
    "name": "ipython",
    "version": 3
   },
   "file_extension": ".py",
   "mimetype": "text/x-python",
   "name": "python",
   "nbconvert_exporter": "python",
   "pygments_lexer": "ipython3",
   "version": "3.10.8"
  }
 },
 "nbformat": 4,
 "nbformat_minor": 2
}
