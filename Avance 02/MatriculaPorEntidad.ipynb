{
 "cells": [
  {
   "cell_type": "markdown",
   "metadata": {},
   "source": [
    "## Avance 02\n",
    "En este segundo avance del proyecto correspondiente a las tareas \"Descargar datos, limpiar y preprocesar, fusionar datos, crear diccionario de datos\" suba como evidencia de sus actividades un archivo comprimido con los siguientes productos de del trabajo en equipo:\n",
    "\n",
    "Conjunto de datos limpios\n",
    "Diccionario de datos"
   ]
  },
  {
   "cell_type": "code",
   "execution_count": null,
   "metadata": {},
   "outputs": [],
   "source": [
    "import pandas as pd\n",
    "\n",
    "route = \"fuentes/MatriculaPorEntidad.xlsx\"\n",
    "\n",
    "df = pd.read_excel(route)\n",
    "\n",
    "print(df.head())"
   ]
  },
  {
   "cell_type": "markdown",
   "metadata": {},
   "source": [
    "#### Limpieza de datos:"
   ]
  },
  {
   "cell_type": "code",
   "execution_count": null,
   "metadata": {},
   "outputs": [],
   "source": [
    "# limpieza de datos: \n",
    "# buscar valores nulos:\n",
    "print(df.info()) # se comprueba que sí hay valores nulos \n",
    "filas_con_nulos = df[df.isnull().any(axis=1)]\n",
    "print(filas_con_nulos)\n",
    "# Los valores nulos son por notas del documento, se eliminan\n",
    "df = df.dropna()\n",
    "print(df.info()) # ya no hay valores nulos\n"
   ]
  },
  {
   "cell_type": "code",
   "execution_count": null,
   "metadata": {},
   "outputs": [],
   "source": [
    "# Eliminación de columnas que no se usarán, nuestra investigación será del año 2015 en adelante:\n",
    "df = df.drop(df.columns[[2, 3, 4, 5, 6, 7, 8, 9, 10]], axis=1)\n",
    "print(df.head())"
   ]
  },
  {
   "cell_type": "markdown",
   "metadata": {},
   "source": [
    "#### Preprocesado de datos:"
   ]
  },
  {
   "cell_type": "code",
   "execution_count": null,
   "metadata": {},
   "outputs": [],
   "source": [
    "# Preprocesado de datos\n",
    "# Hay dos filas de \"encabezado\", es necesario eliminar una y cambiar el nombre para tener encabezados correctos:\n",
    "# Cambiar nombres de columnas:\n",
    "\n",
    "df.columns=['entidad_federativa', 'nivel_educativo','2015-2016_total', '2015-2016_hombres', '2015-2016_mujeres',\n",
    "              \t\t\t\t\t\t\t\t\t\t\t\t\t\t'2020-2021_total', '2020-2021_hombres', '2020-2021_mujeres',\n",
    "              \t\t\t\t\t\t\t\t\t\t\t\t\t\t'2021-2022_total', '2021-2022_hombres', '2021-2022_mujeres',\n",
    "              \t\t\t\t\t\t\t\t\t\t\t\t\t\t'2022-2023_total', '2022-2023_hombres', '2022-2023_mujeres',\n",
    "              \t\t\t\t\t\t\t\t\t\t\t\t\t\t'2023-2024_total', '2023-2024_hombres', '2023-2024_mujeres']\n",
    "\n",
    "# Eliminar primera fila (anterior encabezado)\n",
    "df = df.drop(index=0)\n",
    "print(df.head())\n",
    "\n"
   ]
  },
  {
   "cell_type": "code",
   "execution_count": null,
   "metadata": {},
   "outputs": [],
   "source": [
    "# Cambiar todos los ND a -1, no se deben borrar porque algunas columnas si tienen información util, así que se pondrá un indicador de -1\n",
    "# para indicar que es información no disponible y no tomarla en cuenta en etapas posteriores\n",
    "df = df.replace(\"ND\", -1)\n",
    "\n",
    "print(df.head())\n",
    "\n",
    "# al hacer este cambio tambien se actualizan los tipos de datos:\n",
    "print(df.info())\n"
   ]
  },
  {
   "cell_type": "code",
   "execution_count": null,
   "metadata": {},
   "outputs": [],
   "source": [
    "# Exportación a nuevo csv:\n",
    "df.to_csv(\"resultados/MatriculaPorEntidad.csv\", index=None)"
   ]
  },
  {
   "cell_type": "code",
   "execution_count": null,
   "metadata": {},
   "outputs": [],
   "source": [
    "#Diccionario\n",
    "dic_col = ['variables', 'tipo_dato', 'descripcion'] #Las columnas del diccionario\n",
    "column_headers = list(df.columns) #lista de las columnas de los datos\n",
    "column_types = df.dtypes.astype(str).tolist() #lista de los tipos de datos de las columnas\n",
    "column_desc = [\"Estados que conforman la entidad Federativa de los Estados Unidos Mexicanos\",\n",
    "               \"Nivel Educativo del que se está realizando la evaluación (Primaria, Secundaria, Media Superior, Superior) además del valor total e inicial\",\n",
    "\t\t\t\t\t\"Datos del ciclo escolar 2015 y 2016 totales\",\n",
    "\t\t\t\t\t\"Datos del ciclo escolar 2015 y 2016 para hombres\",\n",
    "\t\t\t\t\t\"Datos del ciclo escolar 2015 y 2016 para mujeres\",\n",
    "               \"Datos del ciclo escolar 2020 y 2021 totales\",\n",
    "               \"Datos del ciclo escolar 2020 y 2021 para hombres\",\n",
    "               \"Datos del ciclo escolar 2020 y 2021 para mujeres\",\n",
    "      \t\t   \"Datos del ciclo escolar 2021 y 2022 totales\",\n",
    "      \t\t   \"Datos del ciclo escolar 2021 y 2022 para hombres\",\n",
    "      \t\t   \"Datos del ciclo escolar 2021 y 2022 para mujeres\",\n",
    "\t\t         \"Datos del ciclo escolar 2022 y 2023 totales\",\n",
    "\t\t         \"Datos del ciclo escolar 2022 y 2023 para hombres\",\n",
    "\t\t         \"Datos del ciclo escolar 2022 y 2023 para mujeres\",\n",
    "               \"Datos del ciclo escolar 2023 y 2024 totales\",\n",
    "               \"Datos del ciclo escolar 2023 y 2024 para hombres\",\n",
    "               \"Datos del ciclo escolar 2023 y 2024 para mujeres\"] \n",
    "\n",
    "\n",
    "\n",
    "\n",
    "diccionario = pd.DataFrame({\n",
    "    dic_col[0]: column_headers,\n",
    "    dic_col[1]: column_types,\n",
    "    dic_col[2]: column_desc\n",
    "})\n",
    "#diccionario.head(10)\n",
    "diccionario.to_excel('resultados/MatriculaPorEntidadDicc.xlsx', index=False)"
   ]
  }
 ],
 "metadata": {
  "kernelspec": {
   "display_name": "Python 3",
   "language": "python",
   "name": "python3"
  },
  "language_info": {
   "codemirror_mode": {
    "name": "ipython",
    "version": 3
   },
   "file_extension": ".py",
   "mimetype": "text/x-python",
   "name": "python",
   "nbconvert_exporter": "python",
   "pygments_lexer": "ipython3",
   "version": "3.10.8"
  }
 },
 "nbformat": 4,
 "nbformat_minor": 2
}
