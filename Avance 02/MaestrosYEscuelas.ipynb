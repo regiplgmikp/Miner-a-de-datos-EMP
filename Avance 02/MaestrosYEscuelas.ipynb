{
 "cells": [
  {
   "cell_type": "code",
   "execution_count": null,
   "metadata": {},
   "outputs": [],
   "source": [
    "import pandas as pd\n",
    "\n",
    "# Leer el archivo Excel\n",
    "route = \"fuentes/MaestrosYEscuelas.xlsx\"\n",
    "df = pd.read_excel(route)\n",
    "\n",
    "# Mostrar las primeras filas del dataframe original\n",
    "print(\"DataFrame original:\")\n",
    "print(df.head())\n"
   ]
  },
  {
   "cell_type": "code",
   "execution_count": null,
   "metadata": {},
   "outputs": [],
   "source": [
    "# Establecer la primera fila de datos como nombres de columnas\n",
    "df.columns = df.iloc[0]  # Usar la primera fila como encabezado\n",
    "df = df[1:].reset_index(drop=True)  # Eliminar la fila de encabezado original\n",
    "\n",
    "# Renombrar columnas para mayor claridad\n",
    "\n",
    "df.columns=['entidad_federativa', 'nivel_educativo','2015-2016_maestros', '2015-2016_escuelas',\n",
    "              \t\t\t\t\t\t\t\t\t\t\t\t\t '2020-2021_maestros', '2020-2021_escuelas',\n",
    "              \t\t\t\t\t\t\t\t\t\t\t\t\t '2021-2022_maestros', '2021-2022_escuelas',\n",
    "              \t\t\t\t\t\t\t\t\t\t\t\t\t '2022-2023_maestros', '2022-2023_escuelas',\n",
    "              \t\t\t\t\t\t\t\t\t\t\t\t\t '2023-2024_maestros', '2023-2024_escuelas']\n",
    "# Identificar columnas numéricas\n",
    "numeric_cols = ['2015-2016_maestros', '2015-2016_escuelas',\n",
    "              \t'2020-2021_maestros', '2020-2021_escuelas',\n",
    "              \t'2021-2022_maestros', '2021-2022_escuelas',\n",
    "              \t'2022-2023_maestros', '2022-2023_escuelas',\n",
    "              \t'2023-2024_maestros', '2023-2024_escuelas']\n",
    "\n",
    "# Convertir columnas numéricas y manejar valores no numéricos\n",
    "df[numeric_cols] = df[numeric_cols].apply(pd.to_numeric, errors=\"coerce\")\n",
    "\n",
    "print(df.head())\n"
   ]
  },
  {
   "cell_type": "code",
   "execution_count": null,
   "metadata": {},
   "outputs": [],
   "source": [
    "# Convertir todos los NaN a 0 en las columnas numéricas\n",
    "df[numeric_cols] = df[numeric_cols].fillna(0)\n",
    "print(df.head())"
   ]
  },
  {
   "cell_type": "code",
   "execution_count": null,
   "metadata": {},
   "outputs": [],
   "source": [
    "# Rellenar valores de Entidad hacia abajo (para mantener la estructura)\n",
    "df['entidad_federativa'] = df['entidad_federativa'].fillna(method='ffill')\n",
    "\n",
    "# Mostrar el DataFrame limpio (primeras 10 filas)\n",
    "print(\"\\nDataFrame limpio con NaN convertidos a 0:\")\n",
    "print(df.head())\n"
   ]
  },
  {
   "cell_type": "code",
   "execution_count": null,
   "metadata": {},
   "outputs": [],
   "source": [
    "# Convertir el df a csv\n",
    "\n",
    "df.to_csv('resultados/MaestrosYEscuelas.csv', index=False, encoding='utf-8')"
   ]
  },
  {
   "cell_type": "code",
   "execution_count": null,
   "metadata": {},
   "outputs": [],
   "source": [
    "#Diccionario\n",
    "dic_col = ['variables', 'tipo_dato', 'descripcion'] #Las columnas del diccionario\n",
    "column_headers = list(df.columns) #lista de las columnas de los datos\n",
    "column_types = df.dtypes.astype(str).tolist() #lista de los tipos de datos de las columnas\n",
    "column_desc = [\"Nombre de la entidad federativa o 'Estados Unidos Mexicanos' para datos nacionales\",\n",
    "               \"Nivel Educativo del que se está realizando la evaluación (Inicial, Preescolar, Primaria, Secundaria, Media superior, Superior y total)\",\n",
    "\t\t\t\t\t\"Número de escuelas en el ciclo escolar 2015-2016\",\n",
    "\t\t\t\t\t\"Número de maestros en el ciclo escolar 2015-2016\",\n",
    "\t\t\t\t\t\"Número de escuelas en el ciclo escolar 2020-2021\",\n",
    "\t\t\t\t\t\"Número de maestros en el ciclo escolar 2020-2021\",\n",
    "\t\t\t\t\t\"Número de escuelas en el ciclo escolar 2021-2022\",\n",
    "\t\t\t\t\t\"Número de maestros en el ciclo escolar 2021-2022\",\n",
    "\t\t\t\t\t\"Número de escuelas en el ciclo escolar 2022-2023\",\n",
    "\t\t\t\t\t\"Número de maestros en el ciclo escolar 2022-2023\",\n",
    "\t\t\t\t\t\"Número de escuelas en el ciclo escolar 2023-2024\",\n",
    "\t\t\t\t\t\"Número de maestros en el ciclo escolar 2023-2024\"]\n",
    "\n",
    "\n",
    "diccionario = pd.DataFrame({\n",
    "    dic_col[0]: column_headers,\n",
    "    dic_col[1]: column_types,\n",
    "    dic_col[2]: column_desc\n",
    "})\n",
    "#diccionario.head(10)\n",
    "diccionario.to_excel('resultados/MaestrosYEscuelasDicc.xlsx', index=False)"
   ]
  }
 ],
 "metadata": {
  "kernelspec": {
   "display_name": "Python 3",
   "language": "python",
   "name": "python3"
  },
  "language_info": {
   "codemirror_mode": {
    "name": "ipython",
    "version": 3
   },
   "file_extension": ".py",
   "mimetype": "text/x-python",
   "name": "python",
   "nbconvert_exporter": "python",
   "pygments_lexer": "ipython3",
   "version": "3.10.8"
  }
 },
 "nbformat": 4,
 "nbformat_minor": 2
}
