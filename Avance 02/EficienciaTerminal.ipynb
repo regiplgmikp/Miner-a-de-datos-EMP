{
 "cells": [
  {
   "cell_type": "markdown",
   "metadata": {},
   "source": [
    "Eficiencia terminal por entidad federativa según nivel educativo, ciclos escolares seleccionados de 2000/2001 a 2023/2024"
   ]
  },
  {
   "cell_type": "code",
   "execution_count": null,
   "metadata": {},
   "outputs": [],
   "source": [
    "import pandas as pd"
   ]
  },
  {
   "cell_type": "code",
   "execution_count": null,
   "metadata": {},
   "outputs": [],
   "source": [
    "route = \"fuentes/EficienciaTerminal.xlsx\"\n",
    "df = pd.read_excel(route)\n",
    "#df1.info()\n",
    "#df1.head(10)"
   ]
  },
  {
   "cell_type": "code",
   "execution_count": null,
   "metadata": {},
   "outputs": [],
   "source": [
    "#El archivo tiene datos fuera de la tabla que nos interesa, asi que limpiamos todo menos la tabla\n",
    "df = df.iloc[4:104].reset_index(drop=True)\n",
    "df.columns = df.iloc[0]  #asignamos el encabezado\n",
    "df = df.drop(0).reset_index(drop=True)\n",
    "df = df.applymap(lambda x: x.lower() if isinstance(x, str) else x) #pasamos todo a minusculas\n",
    "df.columns = df.columns.str.lower()\n",
    "df = df.apply(pd.to_numeric, errors='ignore') #cambiamos el tipo de dato de los numeros"
   ]
  },
  {
   "cell_type": "code",
   "execution_count": null,
   "metadata": {},
   "outputs": [],
   "source": [
    "#podemos ver que no hay datos faltantes y los tipos de datos son correctos\n",
    "df.info()\n",
    "df.head(100)"
   ]
  },
  {
   "cell_type": "code",
   "execution_count": null,
   "metadata": {},
   "outputs": [],
   "source": [
    "# Renombrar columnas\n",
    "df.columns=['entidad_federativa', 'nivel_educativo','2015-2016',\n",
    "              \t\t\t\t\t\t\t\t\t\t\t\t\t '2020-2021',\n",
    "              \t\t\t\t\t\t\t\t\t\t\t\t\t '2021-2022',\n",
    "              \t\t\t\t\t\t\t\t\t\t\t\t\t '2022-2023',\n",
    "              \t\t\t\t\t\t\t\t\t\t\t\t\t '2023-2024']"
   ]
  },
  {
   "cell_type": "code",
   "execution_count": null,
   "metadata": {},
   "outputs": [],
   "source": [
    "#Datos limpios\n",
    "df.to_csv('resultados/EficienciaTerminal.csv', index=False)\n",
    "\n",
    "#Diccionario\n",
    "dic_col = ['variables', 'tipo_dato', 'descripcion'] #Las columnas del diccionario\n",
    "column_headers = list(df.columns) #lista de las columnas de los datos\n",
    "column_types = df.dtypes.astype(str).tolist() #lista de los tipos de datos de las columnas\n",
    "column_desc = [\"Estados que conforman la entidad Federativa de los Estados Unidos Mexicanos\",\n",
    "               \"Nivel Educativo del que se está realizando la evaluación (Primaria, Secundaria, Media Superior)\",\n",
    "\t\t\t\t\t\"Datos del ciclo escolar 2015 y 2016\",\n",
    "               \"Datos del ciclo escolar 2020 y 2021\",\n",
    "      \t\t   \"Datos del ciclo escolar 2021 y 2022\",\n",
    "\t\t         \"Datos del ciclo escolar 2022 y 2023\",\n",
    "               \"Datos del ciclo escolar 2023 y 2024\"] #Descripciones \n",
    "\n",
    "diccionario = pd.DataFrame({\n",
    "    dic_col[0]: column_headers,\n",
    "    dic_col[1]: column_types,\n",
    "    dic_col[2]: column_desc\n",
    "})\n",
    "#diccionario.head(10)\n",
    "diccionario.to_excel('resultados/EficienciaTerminalDicc.xlsx', index=False)"
   ]
  }
 ],
 "metadata": {
  "kernelspec": {
   "display_name": "Python 3",
   "language": "python",
   "name": "python3"
  },
  "language_info": {
   "codemirror_mode": {
    "name": "ipython",
    "version": 3
   },
   "file_extension": ".py",
   "mimetype": "text/x-python",
   "name": "python",
   "nbconvert_exporter": "python",
   "pygments_lexer": "ipython3",
   "version": "3.10.8"
  }
 },
 "nbformat": 4,
 "nbformat_minor": 2
}
